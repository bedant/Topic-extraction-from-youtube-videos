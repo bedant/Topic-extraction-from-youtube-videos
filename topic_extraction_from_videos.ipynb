{
 "cells": [
  {
   "cell_type": "markdown",
   "metadata": {},
   "source": [
    "# Extract text transcripts of these Youtube interviews"
   ]
  },
  {
   "cell_type": "markdown",
   "metadata": {},
   "source": [
    "## Fetching the url of videos from docx file"
   ]
  },
  {
   "cell_type": "code",
   "execution_count": null,
   "metadata": {},
   "outputs": [],
   "source": [
    "import docx\n",
    "sitelist=[]\n",
    "def getText(filename):\n",
    "    doc = docx.Document(filename)\n",
    "    fullText = []\n",
    "    for para in doc.paragraphs:\n",
    "        fullText.append(para.text)\n",
    "        print(para.text.split()[1])\n",
    "        sitelist.append(para.text.split()[1])\n",
    "    return len(doc.paragraphs)\n",
    "        \n",
    "num_vid=getText(\"youtube_list.docx\") #youtube_list is in the home folder\n",
    "#print(sitelist,num_vid)"
   ]
  },
  {
   "cell_type": "markdown",
   "metadata": {},
   "source": [
    "## Downloading video in audio (.wav) format and extracting the transcripts of videos "
   ]
  },
  {
   "cell_type": "code",
   "execution_count": null,
   "metadata": {},
   "outputs": [],
   "source": [
    "from __future__ import unicode_literals\n",
    "import youtube_dl\n",
    "from os import path\n",
    "from pydub import AudioSegment\n",
    "import wave\n",
    "import speech_recognition as sr\n",
    "import sys\n",
    "import contextlib\n",
    "doclist=[]\n",
    "for i in range (num_vid):\n",
    "    ydl_opts = {\n",
    "    #'format': 'bestaudio/best',\n",
    "    'outtmpl': 'audfile'+str(i),\n",
    "    'postprocessors': [{\n",
    "        'key': 'FFmpegExtractAudio',\n",
    "        'preferredcodec': 'wav',\n",
    "        'preferredquality': '192',\n",
    "    }],\n",
    "    }\n",
    "    if(not path.exists(\"audfile\"+str(i)+\".wav\")):\n",
    "        with youtube_dl.YoutubeDL(ydl_opts) as ydl:\n",
    "            ydl.download([sitelist[i]])\n",
    "    #print(\"downloaded in audio format\")\n",
    "    \n",
    "    filename=\"audfile\"+str(i)+\".wav\"\n",
    "    with contextlib.closing(wave.open(filename,'r')) as f:\n",
    "        print(type(f))\n",
    "\n",
    "        # files \n",
    "        if(type(f)==\"mkv\") :     \n",
    "            try:\n",
    "                src = \"audfile\"+str(i)+\".wav\"\n",
    "                dst = \"audfile\"+str(i)+\".wav\"\n",
    "\n",
    "        # convert mkv to wav\n",
    "        \n",
    "                sound = AudioSegment.from_mkv(src)\n",
    "                sound.export(dst, format=\"wav\")\n",
    "            except:\n",
    "                print(\"not converted to .wav\")\n",
    "    #transcribing\n",
    "    \n",
    "    r=sr.Recognizer()\n",
    "    try:\n",
    "        with contextlib.closing(wave.open(filename,'r')) as f:\n",
    "            frames = f.getnframes()\n",
    "            rate = f.getframerate()\n",
    "            totduration = frames / float(rate)\n",
    "            print(totduration)\n",
    "    except:\n",
    "        print(\"error_occured\")\n",
    "        totduration=1\n",
    "    off_time=0\n",
    "    doc=str(\"\")\n",
    "    while(totduration>11):\n",
    "        with sr.AudioFile(filename) as source:\n",
    "            audio=r.record(source, duration=10,offset=off_time)\n",
    "        #print(\"bvlfsk.bsdkvdf\")\n",
    "        try:\n",
    "            x=r.recognize_google(audio)\n",
    "        except:\n",
    "            print(\"-----this line is skipped-----\")\n",
    "            x=' '\n",
    "        doc=doc+x+' ';\n",
    "        #print(str(offtime)+\":::System predicts:\"+x)\n",
    "        totduration-=10\n",
    "        off_time+=10\n",
    "    doclist.append(doc)\n",
    "    #doclist is a list of all transcripts"
   ]
  },
  {
   "cell_type": "markdown",
   "metadata": {},
   "source": [
    "## Cleaning the transcripts"
   ]
  },
  {
   "cell_type": "code",
   "execution_count": null,
   "metadata": {},
   "outputs": [],
   "source": [
    "from nltk.corpus import stopwords \n",
    "from nltk.stem.wordnet import WordNetLemmatizer\n",
    "import string\n",
    "import re\n",
    "stop = set(stopwords.words('english'))\n",
    "exclude = set(string.punctuation) \n",
    "lemma = WordNetLemmatizer()\n",
    "def clean(doc):\n",
    "    stop_free = \" \".join([i for i in doc.lower().split() if i not in stop])\n",
    "    punc_free = ''.join(ch for ch in stop_free if ch not in exclude)\n",
    "    normalized = \" \".join(lemma.lemmatize(word) for word in punc_free.split())\n",
    "    return normalized\n",
    "\n",
    "doc_clean = [clean(doc).split() for doc in doclist]  \n",
    "for j in range(len(doc_clean)):\n",
    "    doc_clean[j] = [word for word in doc_clean[j] if (word.isalpha() and len(word)>3) ]\n",
    "    "
   ]
  },
  {
   "cell_type": "code",
   "execution_count": null,
   "metadata": {},
   "outputs": [],
   "source": [
    "import gensim\n",
    "from gensim import corpora"
   ]
  },
  {
   "cell_type": "markdown",
   "metadata": {},
   "source": [
    "## Preparing a dictionary of corpus"
   ]
  },
  {
   "cell_type": "code",
   "execution_count": null,
   "metadata": {},
   "outputs": [],
   "source": [
    "dictionary = corpora.Dictionary(doc_clean)"
   ]
  },
  {
   "cell_type": "markdown",
   "metadata": {},
   "source": [
    "## Converting list of documents (corpus) into Document Term Matrix using dictionary"
   ]
  },
  {
   "cell_type": "code",
   "execution_count": null,
   "metadata": {},
   "outputs": [],
   "source": [
    "doc_term_matrix = [dictionary.doc2bow(doc) for doc in doc_clean]"
   ]
  },
  {
   "cell_type": "markdown",
   "metadata": {},
   "source": [
    "## Using LDA model for topic modelling"
   ]
  },
  {
   "cell_type": "code",
   "execution_count": null,
   "metadata": {},
   "outputs": [],
   "source": [
    "import numpy as np\n",
    "Lda = gensim.models.ldamodel.LdaModel\n",
    "# Running and Trainign LDA model on the document term matrix.\n",
    "ldamodel = Lda(doc_term_matrix, num_topics=20, id2word = dictionary, passes=50,dtype=np.float64)\n",
    "for i in range(len(doc_term_matrix)):\n",
    "    print ('\\nTopic for video no. :'+str(i))\n",
    "    templist=(ldamodel.print_topics(num_topics=20)[ldamodel[doc_term_matrix[i]][0][0]][1]).split(\"\\\"\")\n",
    "    #print(type(templist))\n",
    "    for k in range(len(templist)):\n",
    "        if(templist[k].isalpha()):\n",
    "            print(templist[k],end=' ')\n",
    "#this prints the topic for each of the video"
   ]
  }
 ],
 "metadata": {
  "kernelspec": {
   "display_name": "Python 3",
   "language": "python",
   "name": "python3"
  },
  "language_info": {
   "codemirror_mode": {
    "name": "ipython",
    "version": 3
   },
   "file_extension": ".py",
   "mimetype": "text/x-python",
   "name": "python",
   "nbconvert_exporter": "python",
   "pygments_lexer": "ipython3",
   "version": "3.6.4"
  }
 },
 "nbformat": 4,
 "nbformat_minor": 2
}
